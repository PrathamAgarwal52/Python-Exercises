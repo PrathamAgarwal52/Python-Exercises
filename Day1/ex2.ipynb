{
 "cells": [
  {
   "cell_type": "code",
   "execution_count": 1,
   "metadata": {},
   "outputs": [
    {
     "name": "stdout",
     "output_type": "stream",
     "text": [
      "I could have code like this.\n"
     ]
    }
   ],
   "source": [
    "# This is a comment, so you can read your program later.\n",
    "# anything after the # in that line is ignored by python.\n",
    "print(\"I could have code like this.\") #and the comment after is ignored\n",
    "# You can also use a comment to \"disable\" or comment out a piece of code:\n",
    "# print \"this will not run.\""
   ]
  }
 ],
 "metadata": {
  "kernelspec": {
   "display_name": "Python 3",
   "language": "python",
   "name": "python3"
  },
  "language_info": {
   "codemirror_mode": {
    "name": "ipython",
    "version": 3
   },
   "file_extension": ".py",
   "mimetype": "text/x-python",
   "name": "python",
   "nbconvert_exporter": "python",
   "pygments_lexer": "ipython3",
   "version": "3.11.5"
  }
 },
 "nbformat": 4,
 "nbformat_minor": 2
}
