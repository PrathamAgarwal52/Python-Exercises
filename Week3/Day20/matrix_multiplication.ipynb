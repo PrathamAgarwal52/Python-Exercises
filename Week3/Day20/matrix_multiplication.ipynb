{
 "cells": [
  {
   "cell_type": "markdown",
   "metadata": {},
   "source": [
    "## Matrix Multiplication"
   ]
  },
  {
   "cell_type": "markdown",
   "metadata": {},
   "source": [
    "For 2 * 2 Matrix"
   ]
  },
  {
   "cell_type": "code",
   "execution_count": 3,
   "metadata": {},
   "outputs": [
    {
     "name": "stdout",
     "output_type": "stream",
     "text": [
      "[33, 39, 45]\n",
      "[75, 90, 105]\n",
      "[117, 141, 165]\n"
     ]
    }
   ],
   "source": [
    "#initialising of matrices\n",
    "a = [\n",
    "    [1,2,3],\n",
    "    [4,5,6],\n",
    "    [7,8,9]\n",
    "]\n",
    "b = [\n",
    "    [2,3,4],\n",
    "    [5,6,7],\n",
    "    [7,8,9]\n",
    "]\n",
    "result = [\n",
    "    [0,0,0],\n",
    "    [0,0,0],\n",
    "    [0,0,0]\n",
    "]\n",
    "\n",
    "# real stuff\n",
    "for i in range(len(a)):                       #range is taken for no. of rows\n",
    "    for j in range(len(b[0])):                #range is taken for no. of columns\n",
    "        for k in range(len(b)):               #here range is taken according to no. of times we have to add them means length of second matrix or no. of rows of b matrix\n",
    "            result[i][j] += a[i][k] * b[k][j]\n",
    "\n",
    "for val in result:\n",
    "    print(val) "
   ]
  },
  {
   "cell_type": "markdown",
   "metadata": {},
   "source": [
    "for 5*5 matrix"
   ]
  },
  {
   "cell_type": "code",
   "execution_count": 4,
   "metadata": {},
   "outputs": [
    {
     "name": "stdout",
     "output_type": "stream",
     "text": [
      "[40, 47, 54, 23, 20]\n",
      "[79, 95, 111, 45, 45]\n",
      "[176, 211, 246, 107, 100]\n",
      "[102, 122, 142, 57, 45]\n",
      "[71, 87, 103, 45, 45]\n"
     ]
    }
   ],
   "source": [
    "#initialising of matrices\n",
    "a = [\n",
    "    [1,2,3,0,1],\n",
    "    [4,5,6,1,0],\n",
    "    [7,8,9,6,5],\n",
    "    [2,5,3,6,4],\n",
    "    [4,3,2,5,2]\n",
    "\n",
    "]\n",
    "b = [\n",
    "    [2,3,4,4,7],\n",
    "    [5,6,7,2,1],\n",
    "    [7,8,9,3,2],\n",
    "    [4,5,6,1,0],\n",
    "    [7,8,9,6,5]\n",
    "]\n",
    "result = [\n",
    "    [0,0,0,0,0],\n",
    "    [0,0,0,0,0],\n",
    "    [0,0,0,0,0],\n",
    "    [0,0,0,0,0],\n",
    "    [0,0,0,0,0]\n",
    "]\n",
    "\n",
    "# real stuff\n",
    "for i in range(len(a)):\n",
    "    for j in range(len(b[0])):\n",
    "        for k in range(len(b)):\n",
    "            result[i][j] += a[i][k] * b[k][j]\n",
    "\n",
    "for val in result:\n",
    "    print(val) "
   ]
  },
  {
   "cell_type": "markdown",
   "metadata": {},
   "source": [
    "For 10*10 matrix"
   ]
  },
  {
   "cell_type": "code",
   "execution_count": 6,
   "metadata": {},
   "outputs": [
    {
     "name": "stdout",
     "output_type": "stream",
     "text": [
      "[116, 150, 159, 71, 42, 122, 149, 118, 132, 119]\n",
      "[190, 238, 261, 101, 58, 200, 227, 189, 197, 168]\n",
      "[312, 376, 425, 153, 92, 304, 295, 292, 338, 287]\n",
      "[278, 339, 380, 134, 77, 278, 304, 275, 291, 256]\n",
      "[276, 347, 378, 155, 92, 288, 309, 264, 302, 249]\n",
      "[240, 301, 327, 149, 95, 248, 251, 230, 295, 243]\n",
      "[235, 299, 323, 137, 81, 252, 280, 234, 265, 216]\n",
      "[276, 340, 379, 139, 80, 282, 284, 276, 313, 257]\n",
      "[215, 262, 294, 101, 57, 216, 245, 211, 209, 189]\n",
      "[247, 299, 331, 136, 88, 233, 250, 207, 261, 230]\n"
     ]
    }
   ],
   "source": [
    "#initialising of matrices\n",
    "a = [\n",
    "    [1,2,3,0,1,3,5,2,3,4],\n",
    "    [4,5,6,1,0,4,5,6,3,4],\n",
    "    [7,8,9,6,5,6,3,2,7,5],\n",
    "    [5,6,7,2,1,5,4,7,9,7],\n",
    "    [7,8,9,3,2,5,8,4,3,6],\n",
    "    [2,5,3,6,4,5,7,3,8,4],\n",
    "    [5,6,7,2,1,6,8,6,4,3],\n",
    "    [7,8,9,3,2,6,5,3,8,3],\n",
    "    [4,5,6,1,0,6,3,7,5,4],\n",
    "    [4,3,2,5,2,7,4,3,8,6]\n",
    "\n",
    "]\n",
    "b = [\n",
    "    [7,8,9,3,2,6,5,3,8,3],\n",
    "    [4,5,6,1,0,6,3,7,5,4],\n",
    "    [4,5,6,1,0,4,5,6,3,4],\n",
    "    [7,8,9,6,5,6,3,2,7,5],\n",
    "    [5,6,7,2,1,5,4,7,9,7],\n",
    "    [7,8,9,3,2,5,8,4,3,6],\n",
    "    [2,5,3,6,4,5,7,3,8,4],\n",
    "    [5,6,7,2,1,6,8,6,4,3],\n",
    "    [5,6,7,2,1,5,4,7,9,7],\n",
    "    [7,8,9,3,2,5,8,4,3,6]\n",
    "     \n",
    "]\n",
    "result = [\n",
    "    [0,0,0,0,0,0,0,0,0,0],\n",
    "    [0,0,0,0,0,0,0,0,0,0],\n",
    "    [0,0,0,0,0,0,0,0,0,0],\n",
    "    [0,0,0,0,0,0,0,0,0,0],\n",
    "    [0,0,0,0,0,0,0,0,0,0],\n",
    "    [0,0,0,0,0,0,0,0,0,0],\n",
    "    [0,0,0,0,0,0,0,0,0,0],\n",
    "    [0,0,0,0,0,0,0,0,0,0],\n",
    "    [0,0,0,0,0,0,0,0,0,0],\n",
    "    [0,0,0,0,0,0,0,0,0,0]\n",
    "  \n",
    "]\n",
    "\n",
    "# real stuff\n",
    "for i in range(len(a)):\n",
    "    for j in range(len(b[0])):\n",
    "        for k in range(len(b)):\n",
    "            result[i][j] += a[i][k] * b[k][j]\n",
    "\n",
    "for val in result:\n",
    "    print(val) "
   ]
  }
 ],
 "metadata": {
  "kernelspec": {
   "display_name": "Python 3",
   "language": "python",
   "name": "python3"
  },
  "language_info": {
   "codemirror_mode": {
    "name": "ipython",
    "version": 3
   },
   "file_extension": ".py",
   "mimetype": "text/x-python",
   "name": "python",
   "nbconvert_exporter": "python",
   "pygments_lexer": "ipython3",
   "version": "3.11.5"
  }
 },
 "nbformat": 4,
 "nbformat_minor": 2
}
