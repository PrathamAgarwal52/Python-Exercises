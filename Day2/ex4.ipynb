{
 "cells": [
  {
   "cell_type": "code",
   "execution_count": 1,
   "metadata": {},
   "outputs": [
    {
     "name": "stdout",
     "output_type": "stream",
     "text": [
      "There are  100  cars available\n",
      "There are only 30 drivers available.\n",
      "There will be 70 empty cars today\n",
      "We can transport 120.0 people today\n",
      "We have 90 to carpool today\n",
      "We have to put about 3.0 in each car\n"
     ]
    }
   ],
   "source": [
    "cars = 100\n",
    "space_in_cars = 4.0\n",
    "drivers = 30\n",
    "passengers = 90\n",
    "cars_not_driven = cars - drivers\n",
    "cars_driven = drivers\n",
    "carpool_capacity = cars_driven * space_in_cars\n",
    "average_passengers_per_cars = passengers/cars_driven\n",
    "\n",
    "print(\"There are \",cars,\" cars available\")\n",
    "print(\"There are only\", drivers ,\"drivers available.\")\n",
    "print(\"There will be\", cars_not_driven ,\"empty cars today\" )\n",
    "print(\"We can transport\", carpool_capacity ,\"people today\")\n",
    "print(\"We have\", passengers ,\"to carpool today\")\n",
    "print(\"We have to put about\", average_passengers_per_cars ,\"in each car\")\n"
   ]
  }
 ],
 "metadata": {
  "kernelspec": {
   "display_name": "Python 3",
   "language": "python",
   "name": "python3"
  },
  "language_info": {
   "codemirror_mode": {
    "name": "ipython",
    "version": 3
   },
   "file_extension": ".py",
   "mimetype": "text/x-python",
   "name": "python",
   "nbconvert_exporter": "python",
   "pygments_lexer": "ipython3",
   "version": "3.11.5"
  }
 },
 "nbformat": 4,
 "nbformat_minor": 2
}
