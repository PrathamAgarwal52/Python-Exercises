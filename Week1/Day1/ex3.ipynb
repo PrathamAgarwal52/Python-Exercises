{
 "cells": [
  {
   "cell_type": "code",
   "execution_count": 1,
   "metadata": {},
   "outputs": [
    {
     "name": "stdout",
     "output_type": "stream",
     "text": [
      "I will now count my chickens:\n",
      "Hens 30.0\n",
      "Roasters 97\n",
      "Now i will count the eggs: \n",
      "6.75\n",
      "Is it true that 3+2<5-77\n",
      "False\n",
      "What is 3+2? 5\n",
      "What is 5-7? -2\n",
      "Oh, that's why it's False.\n",
      "How about some more.\n",
      "Is it greater? True\n",
      "Is it greater or equal? , 5>= -2\n",
      "Is it less or equal? False\n",
      "1.75\n",
      "1.75\n"
     ]
    }
   ],
   "source": [
    "print(\"I will now count my chickens:\")\n",
    "print(\"Hens\", 25 + 30/6)\n",
    "print(\"Roasters\", 100-25*3%4)\n",
    "print(\"Now i will count the eggs: \")\n",
    "print(3+2+1 -5+4%2-1/4+6)\n",
    "print(\"Is it true that 3+2<5-77\")\n",
    "print(3+2<5-7)\n",
    "print(\"What is 3+2?\", 3+2)\n",
    "print(\"What is 5-7?\",5-7)\n",
    "print(\"Oh, that's why it's False.\")\n",
    "print(\"How about some more.\")\n",
    "print(\"Is it greater?\", 5 > -2)\n",
    "print(\"Is it greater or equal? , 5>= -2\")\n",
    "print(\"Is it less or equal?\", 5<= -2)\n",
    "#for knowing about floating point numbers\n",
    "print(7.0/4.0)\n",
    "print(7/4)"
   ]
  }
 ],
 "metadata": {
  "kernelspec": {
   "display_name": "Python 3",
   "language": "python",
   "name": "python3"
  },
  "language_info": {
   "codemirror_mode": {
    "name": "ipython",
    "version": 3
   },
   "file_extension": ".py",
   "mimetype": "text/x-python",
   "name": "python",
   "nbconvert_exporter": "python",
   "pygments_lexer": "ipython3",
   "version": "3.11.5"
  }
 },
 "nbformat": 4,
 "nbformat_minor": 2
}
